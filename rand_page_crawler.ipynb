{
 "cells": [
  {
   "cell_type": "code",
   "execution_count": 1,
   "metadata": {},
   "outputs": [],
   "source": [
    "from selenium import webdriver\n",
    "from selenium.webdriver.common.by import By\n",
    "from selenium.webdriver.support.ui import Select\n",
    "from bs4 import BeautifulSoup\n",
    "import requests"
   ]
  },
  {
   "cell_type": "code",
   "execution_count": 59,
   "metadata": {},
   "outputs": [],
   "source": [
    "driver = webdriver.Chrome()\n",
    "driver.get('https://zh.wikipedia.org/zh-tw/%E5%A4%A7%E6%A8%B9%E7%94%BA')\n",
    "\n",
    "soup = BeautifulSoup(driver.page_source, 'html.parser')"
   ]
  },
  {
   "cell_type": "code",
   "execution_count": 60,
   "metadata": {},
   "outputs": [
    {
     "name": "stdout",
     "output_type": "stream",
     "text": [
      "大樹町\n"
     ]
    }
   ],
   "source": [
    "print(soup.title.text[:-15])"
   ]
  },
  {
   "cell_type": "code",
   "execution_count": 61,
   "metadata": {},
   "outputs": [
    {
     "name": "stdout",
     "output_type": "stream",
     "text": [
      "[<a class=\"mw-jump-link\" href=\"#bodyContent\">跳至內容</a>, <a accesskey=\"z\" href=\"/wiki/Wikipedia:%E9%A6%96%E9%A1%B5\" title=\"前往首頁[alt-shift-z]\"><span>首頁</span></a>, <a href=\"/wiki/Wikipedia:%E5%88%86%E7%B1%BB%E7%B4%A2%E5%BC%95\" title=\"以分類索引搜尋中文維基百科\"><span>分類索引</span></a>, <a href=\"/wiki/Portal:%E7%89%B9%E8%89%B2%E5%85%A7%E5%AE%B9\" title=\"查看中文維基百科的特色內容\"><span>特色內容</span></a>, <a href=\"/wiki/Portal:%E6%96%B0%E8%81%9E%E5%8B%95%E6%85%8B\" title=\"提供當前新聞事件的背景資料\"><span>新聞動態</span></a>, <a accesskey=\"r\" href=\"/wiki/Special:%E6%9C%80%E8%BF%91%E6%9B%B4%E6%94%B9\" title=\"列出維基百科中的最近修改[alt-shift-r]\"><span>近期變更</span></a>, <a accesskey=\"x\" href=\"/wiki/Special:%E9%9A%8F%E6%9C%BA%E9%A1%B5%E9%9D%A2\" title=\"隨機載入一個頁面[alt-shift-x]\"><span>隨機條目</span></a>, <a href=\"https://donate.wikimedia.org/?utm_source=donate&amp;utm_medium=sidebar&amp;utm_campaign=spontaneous&amp;uselang=zh-hans\" title=\"如果您在維基百科受益良多，您可以考慮贊助我們\"><span>資助維基百科</span></a>, <a href=\"/wiki/Help:%E7%9B%AE%E5%BD%95\" title=\"尋求幫助\"><span>說明</span></a>, <a href=\"/wiki/Wikipedia:%E7%A4%BE%E7%BE%A4%E9%A6%96%E9%A1%B5\" title=\"關於本計畫、你可以做什麼、應該如何做\"><span>維基社群</span></a>, <a href=\"/wiki/Wikipedia:%E6%96%B9%E9%87%9D%E8%88%87%E6%8C%87%E5%BC%95\" title=\"查看維基百科的方針和指引\"><span>方針與指引</span></a>, <a href=\"/wiki/Wikipedia:%E4%BA%92%E5%8A%A9%E5%AE%A2%E6%A0%88\" title=\"參與維基百科社群的討論\"><span>互助客棧</span></a>, <a href=\"/wiki/Wikipedia:%E7%9F%A5%E8%AF%86%E9%97%AE%E7%AD%94\" title=\"解答任何與維基百科無關的問題的地方\"><span>知識問答</span></a>, <a href=\"/wiki/Wikipedia:%E5%AD%97%E8%AF%8D%E8%BD%AC%E6%8D%A2\" title=\"提出字詞轉換請求\"><span>字詞轉換</span></a>, <a href=\"/wiki/Wikipedia:IRC%E8%81%8A%E5%A4%A9%E9%A2%91%E9%81%93\"><span>IRC即時聊天</span></a>, <a href=\"/wiki/Wikipedia:%E8%81%94%E7%BB%9C%E6%88%91%E4%BB%AC\" title=\"如何聯絡維基百科\"><span>聯絡我們</span></a>, <a href=\"/wiki/Wikipedia:%E5%85%B3%E4%BA%8E\" title=\"查看維基百科的簡介\"><span>關於維基百科</span></a>, <a class=\"mw-logo\" href=\"/wiki/Wikipedia:%E9%A6%96%E9%A1%B5\">\n",
      "<img alt=\"\" aria-hidden=\"true\" class=\"mw-logo-icon\" height=\"50\" src=\"/static/images/icons/wikipedia.png\" width=\"50\"/>\n",
      "<span class=\"mw-logo-container\">\n",
      "<img alt=\"維基百科\" class=\"mw-logo-wordmark\" src=\"/static/images/mobile/copyright/wikipedia-wordmark-zh.svg\" style=\"width: 6.5625em; height: 1.375em;\"/>\n",
      "<img alt=\"自由的百科全書\" class=\"mw-logo-tagline\" height=\"14\" src=\"/static/images/mobile/copyright/wikipedia-tagline-zh.svg\" style=\"width: 6.4375em; height: 0.875em;\" width=\"103\"/>\n",
      "</span>\n",
      "</a>, <a accesskey=\"f\" class=\"cdx-button cdx-button--fake-button cdx-button--fake-button--enabled cdx-button--weight-quiet cdx-button--icon-only search-toggle\" href=\"/wiki/Special:%E6%90%9C%E7%B4%A2\" id=\"\" title=\"搜尋維基百科[alt-shift-f]\"><span class=\"vector-icon mw-ui-icon-search mw-ui-icon-wikimedia-search\"></span>\n",
      "<span>搜尋</span>\n",
      "</a>, <a class=\"\" data-mw=\"interface\" href=\"/w/index.php?title=Special:%E5%88%9B%E5%BB%BA%E8%B4%A6%E6%88%B7&amp;returnto=%E5%A4%A7%E6%A8%B9%E7%94%BA&amp;returntoquery=variant%3Dzh-tw\" title=\"我們會鼓勵您建立一個帳號並且登入，即使這不是必要的動作。\"><span>建立帳號</span></a>, <a accesskey=\"o\" class=\"\" data-mw=\"interface\" href=\"/w/index.php?title=Special:%E7%94%A8%E6%88%B7%E7%99%BB%E5%BD%95&amp;returnto=%E5%A4%A7%E6%A8%B9%E7%94%BA&amp;returntoquery=variant%3Dzh-tw\" title=\"建議您先登入，但並非必要。[alt-shift-o]\"><span>登入</span></a>, <a href=\"/w/index.php?title=Special:%E5%88%9B%E5%BB%BA%E8%B4%A6%E6%88%B7&amp;returnto=%E5%A4%A7%E6%A8%B9%E7%94%BA&amp;returntoquery=variant%3Dzh-tw\" title=\"我們會鼓勵您建立一個帳號並且登入，即使這不是必要的動作。\"><span class=\"vector-icon mw-ui-icon-userAdd mw-ui-icon-wikimedia-userAdd\"></span> <span>建立帳號</span></a>, <a accesskey=\"o\" href=\"/w/index.php?title=Special:%E7%94%A8%E6%88%B7%E7%99%BB%E5%BD%95&amp;returnto=%E5%A4%A7%E6%A8%B9%E7%94%BA&amp;returntoquery=variant%3Dzh-tw\" title=\"建議您先登入，但並非必要。[alt-shift-o]\"><span class=\"vector-icon mw-ui-icon-logIn mw-ui-icon-wikimedia-logIn\"></span> <span>登入</span></a>, <a aria-label=\"了解更多有關編輯\" href=\"/wiki/Help:%E6%96%B0%E6%89%8B%E5%85%A5%E9%96%80\"><span>了解更多</span></a>, <a accesskey=\"y\" href=\"/wiki/Special:%E6%88%91%E7%9A%84%E8%B4%A1%E7%8C%AE\" title=\"由此 IP 位址編輯的清單[alt-shift-y]\"><span>貢獻</span></a>, <a accesskey=\"n\" href=\"/wiki/Special:%E6%88%91%E7%9A%84%E8%AE%A8%E8%AE%BA%E9%A1%B5\" title=\"對於來自此IP地址編輯的討論[alt-shift-n]\"><span>討論</span></a>, <a class=\"vector-toc-link\" href=\"#\">\n",
      "<div class=\"vector-toc-text\">序言</div>\n",
      "</a>, <a class=\"vector-toc-link\" href=\"#地理\">\n",
      "<div class=\"vector-toc-text\">\n",
      "<span class=\"vector-toc-numb\">1</span>地理</div>\n",
      "</a>, <a class=\"vector-toc-link\" href=\"#歷史\">\n",
      "<div class=\"vector-toc-text\">\n",
      "<span class=\"vector-toc-numb\">2</span>歷史</div>\n",
      "</a>, <a class=\"vector-toc-link\" href=\"#產業\">\n",
      "<div class=\"vector-toc-text\">\n",
      "<span class=\"vector-toc-numb\">3</span>產業</div>\n",
      "</a>, <a class=\"vector-toc-link\" href=\"#交通\">\n",
      "<div class=\"vector-toc-text\">\n",
      "<span class=\"vector-toc-numb\">4</span>交通</div>\n",
      "</a>, <a class=\"vector-toc-link\" href=\"#機場\">\n",
      "<div class=\"vector-toc-text\">\n",
      "<span class=\"vector-toc-numb\">4.1</span>機場</div>\n",
      "</a>, <a class=\"vector-toc-link\" href=\"#鐵路\">\n",
      "<div class=\"vector-toc-text\">\n",
      "<span class=\"vector-toc-numb\">4.2</span>鐵路</div>\n",
      "</a>, <a class=\"vector-toc-link\" href=\"#道路\">\n",
      "<div class=\"vector-toc-text\">\n",
      "<span class=\"vector-toc-numb\">4.3</span>道路</div>\n",
      "</a>, <a class=\"vector-toc-link\" href=\"#觀光景點\">\n",
      "<div class=\"vector-toc-text\">\n",
      "<span class=\"vector-toc-numb\">5</span>觀光景點</div>\n",
      "</a>, <a class=\"vector-toc-link\" href=\"#觀光\">\n",
      "<div class=\"vector-toc-text\">\n",
      "<span class=\"vector-toc-numb\">5.1</span>觀光</div>\n",
      "</a>, <a class=\"vector-toc-link\" href=\"#文化遺產\">\n",
      "<div class=\"vector-toc-text\">\n",
      "<span class=\"vector-toc-numb\">5.2</span>文化遺產</div>\n",
      "</a>, <a class=\"vector-toc-link\" href=\"#教育\">\n",
      "<div class=\"vector-toc-text\">\n",
      "<span class=\"vector-toc-numb\">6</span>教育</div>\n",
      "</a>, <a class=\"vector-toc-link\" href=\"#高等學校\">\n",
      "<div class=\"vector-toc-text\">\n",
      "<span class=\"vector-toc-numb\">6.1</span>高等學校</div>\n",
      "</a>, <a class=\"vector-toc-link\" href=\"#中學校\">\n",
      "<div class=\"vector-toc-text\">\n",
      "<span class=\"vector-toc-numb\">6.2</span>中學校</div>\n",
      "</a>, <a class=\"vector-toc-link\" href=\"#小學校\">\n",
      "<div class=\"vector-toc-text\">\n",
      "<span class=\"vector-toc-numb\">6.3</span>小學校</div>\n",
      "</a>, <a class=\"vector-toc-link\" href=\"#姊妹、友好城市\">\n",
      "<div class=\"vector-toc-text\">\n",
      "<span class=\"vector-toc-numb\">7</span>姊妹、友好城市</div>\n",
      "</a>, <a class=\"vector-toc-link\" href=\"#日本\">\n",
      "<div class=\"vector-toc-text\">\n",
      "<span class=\"vector-toc-numb\">7.1</span>日本</div>\n",
      "</a>, <a class=\"vector-toc-link\" href=\"#海外\">\n",
      "<div class=\"vector-toc-text\">\n",
      "<span class=\"vector-toc-numb\">7.2</span>海外</div>\n",
      "</a>, <a class=\"vector-toc-link\" href=\"#參考資料\">\n",
      "<div class=\"vector-toc-text\">\n",
      "<span class=\"vector-toc-numb\">8</span>參考資料</div>\n",
      "</a>, <a class=\"vector-toc-link\" href=\"#外部連結\">\n",
      "<div class=\"vector-toc-text\">\n",
      "<span class=\"vector-toc-numb\">9</span>外部連結</div>\n",
      "</a>, <a href=\"/w/index.php?title=%E5%A4%A7%E6%A8%B9%E7%94%BA&amp;action=edit&amp;section=0&amp;summary=/*%20top%20*/%20\" title=\"編輯首段\"><span>編輯</span></a>, <a class=\"interlanguage-link-target\" href=\"https://arz.wikipedia.org/wiki/%D8%A8%D9%84%D8%AF%D9%87_%D8%AA%D8%A7%D9%8A%D9%83%D9%89\" hreflang=\"arz\" lang=\"arz\" title=\"بلده تايكى – 埃及阿拉伯文\"><span>مصرى</span></a>, <a class=\"interlanguage-link-target\" href=\"https://ceb.wikipedia.org/wiki/Taiki_Ch%C5%8D_(subdistrito_sa_Hapon,_Hokkaid%C5%8D)\" hreflang=\"ceb\" lang=\"ceb\" title=\"Taiki Chō (subdistrito sa Hapon, Hokkaidō) – 宿霧文\"><span>Cebuano</span></a>, <a class=\"interlanguage-link-target\" href=\"https://en.wikipedia.org/wiki/Taiki,_Hokkaido\" hreflang=\"en\" lang=\"en\" title=\"Taiki, Hokkaido – 英文\"><span>English</span></a>, <a class=\"interlanguage-link-target\" href=\"https://fa.wikipedia.org/wiki/%D8%AA%D8%A7%DB%8C%DA%A9%DB%8C%D8%8C_%D9%87%D9%88%DA%A9%D8%A7%DB%8C%D8%AF%D9%88\" hreflang=\"fa\" lang=\"fa\" title=\"تایکی، هوکایدو – 波斯文\"><span>فارسی</span></a>, <a class=\"interlanguage-link-target\" href=\"https://fr.wikipedia.org/wiki/Taiki_(Hokkaid%C5%8D)\" hreflang=\"fr\" lang=\"fr\" title=\"Taiki (Hokkaidō) – 法文\"><span>Français</span></a>, <a class=\"interlanguage-link-target\" href=\"https://id.wikipedia.org/wiki/Taiki,_Hokkaido\" hreflang=\"id\" lang=\"id\" title=\"Taiki, Hokkaido – 印尼文\"><span>Bahasa Indonesia</span></a>, <a class=\"interlanguage-link-target\" href=\"https://ilo.wikipedia.org/wiki/Taiki,_Hokkaido\" hreflang=\"ilo\" lang=\"ilo\" title=\"Taiki, Hokkaido – 伊洛闊文\"><span>Ilokano</span></a>, <a class=\"interlanguage-link-target\" href=\"https://io.wikipedia.org/wiki/Taiki,_Hokkaido\" hreflang=\"io\" lang=\"io\" title=\"Taiki, Hokkaido – 伊多文\"><span>Ido</span></a>, <a class=\"interlanguage-link-target\" href=\"https://it.wikipedia.org/wiki/Taiki_(Hokkaid%C5%8D)\" hreflang=\"it\" lang=\"it\" title=\"Taiki (Hokkaidō) – 義大利文\"><span>Italiano</span></a>, <a class=\"interlanguage-link-target\" href=\"https://ja.wikipedia.org/wiki/%E5%A4%A7%E6%A8%B9%E7%94%BA\" hreflang=\"ja\" lang=\"ja\" title=\"大樹町 – 日文\"><span>日本語</span></a>, <a class=\"interlanguage-link-target\" href=\"https://ko.wikipedia.org/wiki/%EB%8B%A4%EC%9D%B4%ED%82%A4%EC%A0%95_(%ED%99%8B%EC%B9%B4%EC%9D%B4%EB%8F%84)\" hreflang=\"ko\" lang=\"ko\" title=\"다이키정 (홋카이도) – 韓文\"><span>한국어</span></a>, <a class=\"interlanguage-link-target\" href=\"https://ms.wikipedia.org/wiki/Taiki,_Hokkaid%C5%8D\" hreflang=\"ms\" lang=\"ms\" title=\"Taiki, Hokkaidō – 馬來文\"><span>Bahasa Melayu</span></a>, <a class=\"interlanguage-link-target\" href=\"https://my.wikipedia.org/wiki/%E1%80%90%E1%80%AD%E1%80%AF%E1%80%84%E1%80%BA%E1%80%B8%E1%80%81%E1%80%AD%E1%80%99%E1%80%BC%E1%80%AD%E1%80%AF%E1%80%B7%E1%81%8A_%E1%80%9F%E1%80%B1%E1%80%AC%E1%80%B7%E1%80%80%E1%80%AD%E1%80%AF%E1%80%84%E1%80%BA%E1%80%B8%E1%80%92%E1%80%AD%E1%80%AF%E1%80%B8\" hreflang=\"my\" lang=\"my\" title=\"တိုင်းခိမြို့၊ ဟော့ကိုင်းဒိုး – 緬甸文\"><span>မြန်မာဘာသာ</span></a>, <a class=\"interlanguage-link-target\" href=\"https://pl.wikipedia.org/wiki/Taiki_(Hokkaido)\" hreflang=\"pl\" lang=\"pl\" title=\"Taiki (Hokkaido) – 波蘭文\"><span>Polski</span></a>, <a class=\"interlanguage-link-target\" href=\"https://ru.wikipedia.org/wiki/%D0%A2%D0%B0%D0%B9%D0%BA%D0%B8_(%D0%A5%D0%BE%D0%BA%D0%BA%D0%B0%D0%B9%D0%B4%D0%BE)\" hreflang=\"ru\" lang=\"ru\" title=\"Тайки (Хоккайдо) – 俄文\"><span>Русский</span></a>, <a class=\"interlanguage-link-target\" href=\"https://sv.wikipedia.org/wiki/Taiki\" hreflang=\"sv\" lang=\"sv\" title=\"Taiki – 瑞典文\"><span>Svenska</span></a>, <a class=\"interlanguage-link-target\" href=\"https://uk.wikipedia.org/wiki/%D0%A2%D0%B0%D0%B9%D0%BA%D1%96_(%D0%A5%D0%BE%D0%BA%D0%BA%D0%B0%D0%B9%D0%B4%D0%BE)\" hreflang=\"uk\" lang=\"uk\" title=\"Тайкі (Хоккайдо) – 烏克蘭文\"><span>Українська</span></a>, <a class=\"wbc-editpage\" href=\"https://www.wikidata.org/wiki/Special:EntityPage/Q1357479#sitelinks-wikipedia\" title=\"編輯跨語言連結\">編輯連結</a>, <a accesskey=\"c\" href=\"/wiki/%E5%A4%A7%E6%A8%B9%E7%94%BA\" title=\"瀏覽條目正文[alt-shift-c]\"><span>條目</span></a>, <a accesskey=\"t\" href=\"/wiki/Talk:%E5%A4%A7%E6%A8%B9%E7%94%BA\" rel=\"discussion\" title=\"關於此頁面的討論[alt-shift-t]\"><span>討論</span></a>, <a href=\"/zh/%E5%A4%A7%E6%A8%B9%E7%94%BA\" hreflang=\"zh\" lang=\"zh\"><span>不转换</span></a>, <a href=\"/zh-hans/%E5%A4%A7%E6%A8%B9%E7%94%BA\" hreflang=\"zh-Hans\" lang=\"zh-Hans\"><span>简体</span></a>, <a href=\"/zh-hant/%E5%A4%A7%E6%A8%B9%E7%94%BA\" hreflang=\"zh-Hant\" lang=\"zh-Hant\"><span>繁體</span></a>, <a href=\"/zh-cn/%E5%A4%A7%E6%A8%B9%E7%94%BA\" hreflang=\"zh-Hans-CN\" lang=\"zh-Hans-CN\"><span>大陆简体</span></a>, <a href=\"/zh-hk/%E5%A4%A7%E6%A8%B9%E7%94%BA\" hreflang=\"zh-Hant-HK\" lang=\"zh-Hant-HK\"><span>香港繁體</span></a>, <a href=\"/zh-mo/%E5%A4%A7%E6%A8%B9%E7%94%BA\" hreflang=\"zh-Hant-MO\" lang=\"zh-Hant-MO\"><span>澳門繁體</span></a>, <a href=\"/zh-my/%E5%A4%A7%E6%A8%B9%E7%94%BA\" hreflang=\"zh-Hans-MY\" lang=\"zh-Hans-MY\"><span>大马简体</span></a>, <a href=\"/zh-sg/%E5%A4%A7%E6%A8%B9%E7%94%BA\" hreflang=\"zh-Hans-SG\" lang=\"zh-Hans-SG\"><span>新加坡简体</span></a>, <a href=\"/zh-tw/%E5%A4%A7%E6%A8%B9%E7%94%BA\" hreflang=\"zh-Hant-TW\" lang=\"zh-Hant-TW\"><span>臺灣正體</span></a>, <a href=\"/wiki/%E5%A4%A7%E6%A8%B9%E7%94%BA\"><span>閱讀</span></a>, <a accesskey=\"e\" href=\"/w/index.php?title=%E5%A4%A7%E6%A8%B9%E7%94%BA&amp;action=edit\" title=\"編輯此頁面[alt-shift-e]\"><span>編輯</span></a>, <a accesskey=\"h\" href=\"/w/index.php?title=%E5%A4%A7%E6%A8%B9%E7%94%BA&amp;action=history\" title=\"本頁面的早前版本。[alt-shift-h]\"><span>檢視歷史</span></a>, <a href=\"/wiki/%E5%A4%A7%E6%A8%B9%E7%94%BA\"><span>閱讀</span></a>, <a accesskey=\"e\" href=\"/w/index.php?title=%E5%A4%A7%E6%A8%B9%E7%94%BA&amp;action=edit\" title=\"編輯此頁面[alt-shift-e]\"><span>編輯</span></a>, <a href=\"/w/index.php?title=%E5%A4%A7%E6%A8%B9%E7%94%BA&amp;action=history\"><span>檢視歷史</span></a>, <a accesskey=\"j\" href=\"/wiki/Special:%E9%93%BE%E5%85%A5%E9%A1%B5%E9%9D%A2/%E5%A4%A7%E6%A8%B9%E7%94%BA\" title=\"列出所有與本頁相連的頁面[alt-shift-j]\"><span>連結至此的頁面</span></a>, <a accesskey=\"k\" href=\"/wiki/Special:%E9%93%BE%E5%87%BA%E6%9B%B4%E6%94%B9/%E5%A4%A7%E6%A8%B9%E7%94%BA\" rel=\"nofollow\" title=\"頁面連出所有頁面的更改[alt-shift-k]\"><span>相關變更</span></a>, <a accesskey=\"u\" href=\"/wiki/Project:%E4%B8%8A%E4%BC%A0\" title=\"上傳圖像或多媒體檔[alt-shift-u]\"><span>上傳檔案</span></a>, <a accesskey=\"q\" href=\"/wiki/Special:%E7%89%B9%E6%AE%8A%E9%A1%B5%E9%9D%A2\" title=\"全部特殊頁面的列表[alt-shift-q]\"><span>特殊頁面</span></a>, <a href=\"https://zh.wikipedia.org/w/index.php?title=%E5%A4%A7%E6%A8%B9%E7%94%BA&amp;oldid=73306561\" title=\"此頁面修訂的固定連結\"><span>固定連結</span></a>, <a href=\"/w/index.php?title=%E5%A4%A7%E6%A8%B9%E7%94%BA&amp;action=info\" title=\"更多關於此頁面的資訊\"><span>頁面資訊</span></a>, <a href=\"/w/index.php?title=Special:%E5%BC%95%E7%94%A8%E6%AD%A4%E9%A1%B5%E9%9D%A2&amp;page=%E5%A4%A7%E6%A8%B9%E7%94%BA&amp;id=73306561&amp;wpFormIdentifier=titleform\" title=\"關於如何引用此頁的資訊\"><span>引用此頁面</span></a>, <a aria-haspopup=\"dialog\" href=\"/w/index.php?title=Special:URL%E7%BC%A9%E7%9F%AD%E7%A8%8B%E5%BA%8F&amp;url=https%3A%2F%2Fzh.wikipedia.org%2Fzh-tw%2F%25E5%25A4%25A7%25E6%25A8%25B9%25E7%2594%25BA\"><span>取得短網址</span></a>, <a accesskey=\"g\" href=\"https://www.wikidata.org/wiki/Special:EntityPage/Q1357479\" title=\"連結至已連接的資料儲存庫項目[alt-shift-g]\"><span>維基數據項目</span></a>, <a href=\"https://www.wikidata.org/wiki/Special:EntityPage/Q1357479#sitelinks-wikipedia\" title=\"編輯跨語言連結\"><span>編輯跨語言連結</span></a>, <a href=\"/w/index.php?title=Special:DownloadAsPdf&amp;page=%E5%A4%A7%E6%A8%B9%E7%94%BA&amp;action=show-download-screen\"><span>下載為 PDF</span></a>, <a accesskey=\"p\" href=\"javascript:print();\" rel=\"alternate\" title=\"此頁面的可列印版本[alt-shift-p]\"><span>可列印版</span></a>, <a href=\"https://commons.wikimedia.org/wiki/Category:Taiki,_Hokkaido\" hreflang=\"en\"><span>維基共享資源</span></a>, <a href=\"/wiki/%E7%94%BA\" title=\"町\">町</a>, <a class=\"mw-redirect\" href=\"/wiki/%E6%97%A5%E6%96%87\" title=\"日文\">日文</a>, <a href=\"/wiki/%E5%B9%B3%E5%81%87%E5%90%8D\" title=\"平假名\">平假名</a>, <a href=\"/wiki/%E6%97%A5%E8%AF%AD%E7%BD%97%E9%A9%AC%E5%AD%97\" title=\"日語羅馬字\">羅馬字</a>, <a class=\"mw-file-description\" href=\"/wiki/File:Rekifune_Riv_4.JPG\"><img class=\"mw-file-element\" data-file-height=\"1880\" data-file-width=\"2816\" decoding=\"async\" height=\"160\" src=\"//upload.wikimedia.org/wikipedia/commons/thumb/2/2c/Rekifune_Riv_4.JPG/240px-Rekifune_Riv_4.JPG\" srcset=\"//upload.wikimedia.org/wikipedia/commons/thumb/2/2c/Rekifune_Riv_4.JPG/360px-Rekifune_Riv_4.JPG 1.5x, //upload.wikimedia.org/wikipedia/commons/thumb/2/2c/Rekifune_Riv_4.JPG/480px-Rekifune_Riv_4.JPG 2x\" width=\"240\"/></a>, <a class=\"new\" href=\"/w/index.php?title=%E6%AD%B7%E8%88%9F%E5%B7%9D&amp;action=edit&amp;redlink=1\" title=\"歷舟川（頁面不存在）\">歷舟川</a>, <a class=\"mw-file-description\" href=\"/wiki/File:Flag_of_Taiki,_Hokkaido.svg\" title=\"大樹町旗幟\"><img alt=\"大樹町旗幟\" class=\"mw-file-element\" data-file-height=\"216\" data-file-width=\"324\" decoding=\"async\" height=\"67\" src=\"//upload.wikimedia.org/wikipedia/commons/thumb/8/80/Flag_of_Taiki%2C_Hokkaido.svg/100px-Flag_of_Taiki%2C_Hokkaido.svg.png\" srcset=\"//upload.wikimedia.org/wikipedia/commons/thumb/8/80/Flag_of_Taiki%2C_Hokkaido.svg/150px-Flag_of_Taiki%2C_Hokkaido.svg.png 1.5x, //upload.wikimedia.org/wikipedia/commons/thumb/8/80/Flag_of_Taiki%2C_Hokkaido.svg/200px-Flag_of_Taiki%2C_Hokkaido.svg.png 2x\" width=\"100\"/></a>, <a href=\"/wiki/%E5%B8%82%E7%94%BA%E6%9D%91%E6%97%97\" title=\"市町村旗\">町旗</a>, <a class=\"mw-file-description\" href=\"/wiki/File:Emblem_of_Taiki,_Hokkaido.svg\" title=\"大樹町町章\"><img alt=\"大樹町町章\" class=\"mw-file-element\" data-file-height=\"532\" data-file-width=\"512\" decoding=\"async\" height=\"104\" src=\"//upload.wikimedia.org/wikipedia/commons/thumb/9/98/Emblem_of_Taiki%2C_Hokkaido.svg/100px-Emblem_of_Taiki%2C_Hokkaido.svg.png\" srcset=\"//upload.wikimedia.org/wikipedia/commons/thumb/9/98/Emblem_of_Taiki%2C_Hokkaido.svg/150px-Emblem_of_Taiki%2C_Hokkaido.svg.png 1.5x, //upload.wikimedia.org/wikipedia/commons/thumb/9/98/Emblem_of_Taiki%2C_Hokkaido.svg/200px-Emblem_of_Taiki%2C_Hokkaido.svg.png 2x\" width=\"100\"/></a>, <a class=\"mw-file-description\" href=\"/wiki/File:Taiki_in_Tokachi_Subprefecture.gif\" title=\"大樹町位置圖\"><img alt=\"大樹町位置圖\" class=\"mw-file-element\" data-file-height=\"583\" data-file-width=\"600\" decoding=\"async\" height=\"243\" src=\"//upload.wikimedia.org/wikipedia/commons/thumb/f/f1/Taiki_in_Tokachi_Subprefecture.gif/250px-Taiki_in_Tokachi_Subprefecture.gif\" srcset=\"//upload.wikimedia.org/wikipedia/commons/thumb/f/f1/Taiki_in_Tokachi_Subprefecture.gif/375px-Taiki_in_Tokachi_Subprefecture.gif 1.5x, //upload.wikimedia.org/wikipedia/commons/thumb/f/f1/Taiki_in_Tokachi_Subprefecture.gif/500px-Taiki_in_Tokachi_Subprefecture.gif 2x\" width=\"250\"/></a>, <a class=\"mw-file-description\" href=\"/wiki/File:Japan_location_map_with_side_map_of_the_Ryukyu_Islands.svg\" title=\"大樹町在日本的位置\"><img alt=\"大樹町在日本的位置\" class=\"mw-file-element\" data-file-height=\"373\" data-file-width=\"413\" decoding=\"async\" height=\"226\" src=\"//upload.wikimedia.org/wikipedia/commons/thumb/9/98/Japan_location_map_with_side_map_of_the_Ryukyu_Islands.svg/250px-Japan_location_map_with_side_map_of_the_Ryukyu_Islands.svg.png\" srcset=\"//upload.wikimedia.org/wikipedia/commons/thumb/9/98/Japan_location_map_with_side_map_of_the_Ryukyu_Islands.svg/375px-Japan_location_map_with_side_map_of_the_Ryukyu_Islands.svg.png 1.5x, //upload.wikimedia.org/wikipedia/commons/thumb/9/98/Japan_location_map_with_side_map_of_the_Ryukyu_Islands.svg/500px-Japan_location_map_with_side_map_of_the_Ryukyu_Islands.svg.png 2x\" width=\"250\"/></a>, <a class=\"external text\" href=\"//geohack.toolforge.org/geohack.php?language=zh&amp;pagename=%E5%A4%A7%E6%A8%B9%E7%94%BA&amp;params=42.49753_N_143.27889_E_\"><span class=\"geo-default\"><span class=\"geo-dms\" title=\"此地的地圖、航拍照片和其他數據\"><span class=\"latitude\">42°29′51″N</span> <span class=\"longitude\">143°16′44″E</span></span></span><span class=\"geo-multi-punct\">﻿ / ﻿</span><span class=\"geo-nondefault\"><span class=\"geo-dec\" title=\"此地的地圖、航拍照片和其他數據\">42.49753°N 143.27889°E</span><span style=\"display:none\">﻿ / <span class=\"geo\">42.49753; 143.27889</span></span></span></a>, <a href=\"/wiki/%E4%B8%96%E7%95%8C%E6%94%BF%E5%8D%80%E7%B4%A2%E5%BC%95\" title=\"世界政區索引\">國家</a>, <a href=\"/wiki/%E6%97%A5%E6%9C%AC\" title=\"日本\">日本</a>, <a href=\"/wiki/%E6%97%A5%E6%9C%AC%E5%9C%B0%E7%90%86%E5%88%86%E5%8C%BA\" title=\"日本地理分區\">地方</a>, <a href=\"/wiki/%E5%8C%97%E6%B5%B7%E9%81%93\" title=\"北海道\">北海道地方</a>, <a href=\"/wiki/%E6%97%A5%E6%9C%AC%E8%A1%8C%E6%94%BF%E5%8D%80%E5%8A%83\" title=\"日本行政區劃\">都道府縣</a>, <a href=\"/wiki/%E5%8C%97%E6%B5%B7%E9%81%93\" title=\"北海道\">北海道</a>, <a href=\"/wiki/%E5%8D%81%E5%8B%9D%E7%B6%9C%E5%90%88%E6%8C%AF%E8%88%88%E5%B1%80\" title=\"十勝綜合振興局\">十勝綜合振興局</a>, <a href=\"/wiki/%E9%83%A1_(%E6%97%A5%E6%9C%AC)\" title=\"郡 (日本)\">郡</a>, <a href=\"/wiki/%E5%BB%A3%E5%B0%BE%E9%83%A1\" title=\"廣尾郡\">廣尾郡</a>, <a href=\"/wiki/%E4%B8%AD%E6%9C%AD%E5%85%A7%E6%9D%91\" title=\"中札內村\">中札內村</a>, <a href=\"/wiki/%E6%9B%B4%E5%88%A5%E6%9D%91\" title=\"更別村\">更別村</a>, <a href=\"/wiki/%E5%B9%95%E5%88%A5%E7%94%BA\" title=\"幕別町\">幕別町</a>, <a href=\"/wiki/%E8%B1%90%E9%A0%83%E7%94%BA\" title=\"豐頃町\">豐頃町</a>, <a href=\"/wiki/%E5%BB%A3%E5%B0%BE%E7%94%BA\" title=\"廣尾町\">廣尾町</a>, <a href=\"/wiki/%E6%96%B0%E6%97%A5%E9%AB%98%E7%94%BA\" title=\"新日高町\">新日高町</a>, <a href=\"/wiki/%E6%B5%A6%E6%B2%B3%E7%94%BA\" title=\"浦河町\">浦河町</a>, <a href=\"/wiki/%E4%BA%BA%E5%8F%A3%E5%AF%86%E5%BA%A6\" title=\"人口密度\">密度</a>, <a class=\"mw-redirect\" href=\"/wiki/%E6%9F%9E%E6%A0%8E\" title=\"柞櫟\">柞櫟</a>, <a href=\"/wiki/%E5%A4%A7%E6%B3%A2%E6%96%AF%E8%8F%8A\" title=\"大波斯菊\">大波斯菊</a>, <a class=\"mw-redirect\" href=\"/wiki/%E7%99%BE%E7%81%B5%E9%B8%9F\" title=\"百靈鳥\">百靈鳥</a>, <a href=\"/wiki/%E6%97%B6%E5%8C%BA\" title=\"時區\">時區</a>, <a href=\"/wiki/%E6%97%A5%E6%9C%AC%E6%A8%99%E6%BA%96%E6%99%82%E9%96%93\" title=\"日本標準時間\">日本標準時間</a>, <a class=\"mw-redirect\" href=\"/wiki/UTC%2B9\" title=\"UTC+9\">UTC+9</a>, <a href=\"/wiki/%E5%85%A8%E5%9C%8B%E5%9C%B0%E6%96%B9%E5%85%AC%E5%85%B1%E5%9C%98%E9%AB%94%E7%B7%A8%E8%99%9F\" title=\"全國地方公共團體編號\">町編號</a>, <a class=\"mw-redirect\" href=\"/wiki/%E9%83%B5%E9%81%9E%E5%8D%80%E8%99%9F\" title=\"郵遞區號\">郵遞區號</a>, <a class=\"mw-redirect\" href=\"/wiki/%E6%B3%95%E4%BA%BA%E7%95%AA%E8%99%9F\" title=\"法人番號\">法人番號</a>, <a class=\"external text\" href=\"http://www.houjin-bangou.nta.go.jp/henkorireki-johoto.html?selHouzinNo=3000020016411\" rel=\"nofollow\">3000020016411</a>, <a class=\"external text\" href=\"http://www.town.taiki.hokkaido.jp/\" rel=\"nofollow\">www<wbr/>.town<wbr/>.taiki<wbr/>.hokkaido<wbr/>.jp</a>, <a class=\"external text\" href=\"http://www.town.taiki.hokkaido.jp/\" rel=\"nofollow\">大樹町官方網頁</a>, <a class=\"extiw\" href=\"https://ja.wikipedia.org/wiki/%E5%A4%A7%E6%A8%B9%E7%94%BA\" title=\"ja:大樹町\"><span style=\"font: bold 80% sans-serif; text-decoration: none; padding: 0 .1em; font-size:85%;\">*</span></a>, <a class=\"mw-redirect\" href=\"/wiki/Help:%E6%97%A5%E8%AA%9E\" title=\"Help:日語\"><span style=\"font: bold 80% sans-serif; text-decoration: none; padding: 0 .1em;\">?</span></a>, <a href=\"/wiki/%E5%8C%97%E6%B5%B7%E9%81%93\" title=\"北海道\">北海道</a>, <a href=\"/wiki/%E5%8D%81%E5%8B%9D%E7%B6%9C%E5%90%88%E6%8C%AF%E8%88%88%E5%B1%80\" title=\"十勝綜合振興局\">十勝綜合振興局</a>, <a href=\"/wiki/%E9%98%BF%E4%BC%8A%E5%8A%AA%E8%AA%9E\" title=\"阿伊努語\">阿伊努語</a>, <a href=\"#cite_note-1\">[1]</a>, <a href=\"/wiki/%E8%B7%B3%E8%9A%A4\" title=\"跳蚤\">跳蚤</a>, <a href=\"#cite_note-:0-2\">[2]</a>, <a class=\"new\" href=\"/w/index.php?title=%E8%BF%B7%E4%BD%A0%E6%8E%92%E7%90%83&amp;action=edit&amp;redlink=1\" title=\"迷你排球（頁面不存在）\">迷你排球</a>, <a href=\"/w/index.php?title=%E5%A4%A7%E6%A8%B9%E7%94%BA&amp;action=edit&amp;section=1\" title=\"編輯章節：地理\"><span>編輯</span></a>, <a href=\"/wiki/%E6%97%A5%E9%AB%98%E5%B1%B1%E8%84%88\" title=\"日高山脈\">日高山脈</a>, <a href=\"/wiki/%E5%A4%AA%E5%B9%B3%E6%B4%8B\" title=\"太平洋\">太平洋</a>, <a class=\"mw-redirect\" href=\"/wiki/%E6%B2%BC%E6%BE%A4\" title=\"沼澤\">沼澤</a>, <a href=\"/w/index.php?title=%E5%A4%A7%E6%A8%B9%E7%94%BA&amp;action=edit&amp;section=2\" title=\"編輯章節：歷史\"><span>編輯</span></a>, <a href=\"/wiki/%E7%95%B6%E7%B7%A3%E9%83%A1\" title=\"當緣郡\">當緣郡</a>, <a href=\"/wiki/%E5%B8%82%E7%94%BA%E6%9D%91%E5%90%88%E4%BD%B5\" title=\"市町村合併\">合併</a>, <a href=\"#cite_note-3\">[3]</a>, <a href=\"#cite_note-4\">[4]</a>, <a href=\"/wiki/%E5%9C%8B%E9%90%B5\" title=\"國鐵\">國鐵</a>, <a href=\"/wiki/%E5%BB%A3%E5%B0%BE%E7%B7%9A\" title=\"廣尾線\">廣尾線</a>, <a href=\"/wiki/%E5%BF%A0%E9%A1%9E%E6%9D%91\" title=\"忠類村\">忠類村</a>, <a href=\"/wiki/%E5%8D%81%E5%8B%9D%E9%83%A1\" title=\"十勝郡\">十勝郡</a>, <a href=\"/w/index.php?title=%E5%A4%A7%E6%A8%B9%E7%94%BA&amp;action=edit&amp;section=3\" title=\"編輯章節：產業\"><span>編輯</span></a>, <a class=\"mw-redirect\" href=\"/wiki/%E6%BC%81%E6%A5%AD\" title=\"漁業\">漁業</a>, <a class=\"mw-redirect\" href=\"/wiki/%E9%85%AA%E8%BE%B2\" title=\"酪農\">酪農</a>, <a href=\"/w/index.php?title=%E5%A4%A7%E6%A8%B9%E7%94%BA&amp;action=edit&amp;section=4\" title=\"編輯章節：交通\"><span>編輯</span></a>, <a href=\"/w/index.php?title=%E5%A4%A7%E6%A8%B9%E7%94%BA&amp;action=edit&amp;section=5\" title=\"編輯章節：機場\"><span>編輯</span></a>, <a href=\"/wiki/%E5%B8%B6%E5%BB%A3%E6%A9%9F%E5%A0%B4\" title=\"帶廣機場\">帶廣機場</a>, <a href=\"/wiki/%E5%B8%B6%E5%BB%A3%E5%B8%82\" title=\"帶廣市\">帶廣市</a>, <a href=\"/w/index.php?title=%E5%A4%A7%E6%A8%B9%E7%94%BA&amp;action=edit&amp;section=6\" title=\"編輯章節：鐵路\"><span>編輯</span></a>, <a href=\"/wiki/%E5%8C%97%E6%B5%B7%E9%81%93%E6%97%85%E5%AE%A2%E9%90%B5%E9%81%93\" title=\"北海道旅客鐵道\">北海道旅客鐵道</a>, <a href=\"/wiki/%E5%BB%A3%E5%B0%BE%E7%B7%9A\" title=\"廣尾線\">廣尾線</a>, <a class=\"mw-redirect\" href=\"/wiki/%E5%A4%A7%E6%A8%B9%E8%BB%8A%E7%AB%99\" title=\"大樹車站\">大樹車站</a>, <a href=\"/w/index.php?title=%E5%A4%A7%E6%A8%B9%E7%94%BA&amp;action=edit&amp;section=7\" title=\"編輯章節：道路\"><span>編輯</span></a>, <a href=\"/wiki/%E4%B8%BB%E8%A6%81%E5%9C%B0%E6%96%B9%E9%81%93\" title=\"主要地方道\">主要地方道</a>, <a class=\"mw-redirect\" href=\"/wiki/%E9%83%BD%E9%81%93%E5%BA%9C%E7%B8%A3%E9%81%93\" title=\"都道府縣道\">道道</a>, <a href=\"/w/index.php?title=%E5%A4%A7%E6%A8%B9%E7%94%BA&amp;action=edit&amp;section=8\" title=\"編輯章節：觀光景點\"><span>編輯</span></a>, <a class=\"mw-file-description\" href=\"/wiki/File:Taiki_Aerospace_Research_Field.jpg\"><img class=\"mw-file-element\" data-file-height=\"1440\" data-file-width=\"2560\" decoding=\"async\" height=\"141\" src=\"//upload.wikimedia.org/wikipedia/commons/thumb/5/5b/Taiki_Aerospace_Research_Field.jpg/250px-Taiki_Aerospace_Research_Field.jpg\" srcset=\"//upload.wikimedia.org/wikipedia/commons/thumb/5/5b/Taiki_Aerospace_Research_Field.jpg/375px-Taiki_Aerospace_Research_Field.jpg 1.5x, //upload.wikimedia.org/wikipedia/commons/thumb/5/5b/Taiki_Aerospace_Research_Field.jpg/500px-Taiki_Aerospace_Research_Field.jpg 2x\" width=\"250\"/></a>, <a href=\"/wiki/%E8%88%AA%E7%A9%BA\" title=\"航空\">航空</a>, <a class=\"mw-redirect\" href=\"/wiki/%E9%A3%9B%E8%A1%8C%E9%81%8B%E5%8B%95\" title=\"飛行運動\">飛行運動</a>, <a class=\"mw-redirect\" href=\"/wiki/JAXA\" title=\"JAXA\">JAXA</a>, <a href=\"/wiki/%E5%AE%87%E5%AE%99\" title=\"宇宙\">宇宙</a>, <a class=\"mw-redirect\" href=\"/wiki/%E5%AF%A6%E9%A9%97\" title=\"實驗\">實驗</a>, <a href=\"/w/index.php?title=%E5%A4%A7%E6%A8%B9%E7%94%BA&amp;action=edit&amp;section=9\" title=\"編輯章節：觀光\"><span>編輯</span></a>, <a class=\"mw-redirect\" href=\"/wiki/%E6%96%87%E5%8C%96%E9%81%BA%E7%94%A2\" title=\"文化遺產\">文化遺產</a>, <a href=\"/w/index.php?title=%E5%A4%A7%E6%A8%B9%E7%94%BA&amp;action=edit&amp;section=10\" title=\"編輯章節：文化遺產\"><span>編輯</span></a>, <a href=\"/w/index.php?title=%E5%A4%A7%E6%A8%B9%E7%94%BA&amp;action=edit&amp;section=11\" title=\"編輯章節：教育\"><span>編輯</span></a>, <a href=\"/w/index.php?title=%E5%A4%A7%E6%A8%B9%E7%94%BA&amp;action=edit&amp;section=12\" title=\"編輯章節：高等學校\"><span>編輯</span></a>, <a href=\"/w/index.php?title=%E5%A4%A7%E6%A8%B9%E7%94%BA&amp;action=edit&amp;section=13\" title=\"編輯章節：中學校\"><span>編輯</span></a>, <a href=\"/w/index.php?title=%E5%A4%A7%E6%A8%B9%E7%94%BA&amp;action=edit&amp;section=14\" title=\"編輯章節：小學校\"><span>編輯</span></a>, <a href=\"/w/index.php?title=%E5%A4%A7%E6%A8%B9%E7%94%BA&amp;action=edit&amp;section=15\" title=\"編輯章節：姊妹、友好城市\"><span>編輯</span></a>, <a href=\"/w/index.php?title=%E5%A4%A7%E6%A8%B9%E7%94%BA&amp;action=edit&amp;section=16\" title=\"編輯章節：日本\"><span>編輯</span></a>, <a href=\"/wiki/%E7%9B%B8%E9%A6%AC%E5%B8%82\" title=\"相馬市\">相馬市</a>, <a class=\"mw-redirect\" href=\"/wiki/%E7%A6%8F%E5%B3%B6%E7%B8%A3\" title=\"福島縣\">福島縣</a>, <a href=\"/w/index.php?title=%E5%A4%A7%E6%A8%B9%E7%94%BA&amp;action=edit&amp;section=17\" title=\"編輯章節：海外\"><span>編輯</span></a>, <a href=\"/wiki/%E4%B8%AD%E8%8F%AF%E6%B0%91%E5%9C%8B\" title=\"中華民國\"><img alt=\"中華民國\" class=\"mw-file-element\" data-file-height=\"600\" data-file-width=\"900\" decoding=\"async\" height=\"15\" src=\"//upload.wikimedia.org/wikipedia/commons/thumb/7/72/Flag_of_the_Republic_of_China.svg/22px-Flag_of_the_Republic_of_China.svg.png\" srcset=\"//upload.wikimedia.org/wikipedia/commons/thumb/7/72/Flag_of_the_Republic_of_China.svg/33px-Flag_of_the_Republic_of_China.svg.png 1.5x, //upload.wikimedia.org/wikipedia/commons/thumb/7/72/Flag_of_the_Republic_of_China.svg/44px-Flag_of_the_Republic_of_China.svg.png 2x\" width=\"22\"/></a>, <a href=\"/wiki/%E5%A4%A7%E6%A8%B9%E5%8D%80\" title=\"大樹區\">大樹區</a>, <a class=\"mw-redirect\" href=\"/wiki/%E5%8F%B0%E7%81%A3\" title=\"台灣\">台灣</a>, <a href=\"/wiki/%E9%AB%98%E9%9B%84%E5%B8%82\" title=\"高雄市\">高雄市</a>, <a href=\"#cite_note-5\">[5]</a>, <a href=\"/w/index.php?title=%E5%A4%A7%E6%A8%B9%E7%94%BA&amp;action=edit&amp;section=18\" title=\"編輯章節：參考資料\"><span>編輯</span></a>, <a aria-label=\"移至\" href=\"#cite_ref-1\" title=\"移至\">^</a>, <a class=\"external text\" href=\"https://web.archive.org/web/20080916121825/http://www.town.taiki.hokkaido.jp/pages/shoukai/index.html\" rel=\"nofollow\">町的介紹</a>, <a class=\"external text\" href=\"http://www.town.taiki.hokkaido.jp/pages/shoukai/index.html\" rel=\"nofollow\">原始內容</a>, <a aria-label=\"移至\" href=\"#cite_ref-:0_2-0\" title=\"移至\">^</a>, <a class=\"external text\" href=\"http://www.pref.hokkaido.lg.jp/ks/ass/grp/7180P.pdf\" rel=\"nofollow\">アイヌ語地名リスト セッ～ツキガ　P71-80</a>, <a class=\"external text\" href=\"http://www.pref.hokkaido.lg.jp/ks/ass/new_timeilist.htm\" rel=\"nofollow\">アイヌ語地名リスト</a>, <a class=\"external text\" href=\"https://web.archive.org/web/20180417012350/http://www.pref.hokkaido.lg.jp/ks/ass/grp/7180P.pdf\" rel=\"nofollow\">存檔</a>, <a href=\"/wiki/Help:%E5%BC%95%E6%96%87%E6%A0%BC%E5%BC%8F1%E9%94%99%E8%AF%AF#param_has_ext_link\" title=\"Help:引文格式1錯誤\">幫助</a>, <a aria-label=\"移至\" href=\"#cite_ref-3\" title=\"移至\">^</a>, <a class=\"external text\" href=\"https://web.archive.org/web/20091001194212/http://homepage1.nifty.com/ishato/tiri/sityoson/01hokkai/01_hokkai21.htm#tokati\" rel=\"nofollow\">市町村的變遷 - 北海道［道東・道北］</a>, <a class=\"external text\" href=\"http://homepage1.nifty.com/ishato/tiri/sityoson/01hokkai/01_hokkai21.htm#tokati\" rel=\"nofollow\">原始內容</a>, <a aria-label=\"移至\" href=\"#cite_ref-4\" title=\"移至\">^</a>, <a class=\"external text\" href=\"https://web.archive.org/web/20080916121825/http://www.town.taiki.hokkaido.jp/pages/shoukai/index.html\" rel=\"nofollow\">大樹町的足跡</a>, <a class=\"external text\" href=\"http://www.town.taiki.hokkaido.jp/pages/shoukai/index.html\" rel=\"nofollow\">原始內容</a>, <a aria-label=\"移至\" href=\"#cite_ref-5\" title=\"移至\">^</a>, <a class=\"external text\" href=\"https://dashu.kcg.gov.tw/News_Content.aspx?n=0C96B9DE0C540936&amp;sms=C1E3510F5BCFF4DF&amp;s=2AD300683AA6BA5D\" rel=\"nofollow\">與日本大樹町簽訂友好交流協定(2015年9月1日)</a>, <a class=\"external text\" href=\"https://web.archive.org/web/20210422083453/https://dashu.kcg.gov.tw/News_Content.aspx?n=0C96B9DE0C540936&amp;sms=C1E3510F5BCFF4DF&amp;s=2AD300683AA6BA5D\" rel=\"nofollow\">存檔</a>, <a href=\"/w/index.php?title=%E5%A4%A7%E6%A8%B9%E7%94%BA&amp;action=edit&amp;section=19\" title=\"編輯章節：外部連結\"><span>編輯</span></a>, <a href=\"/wiki/%E7%BB%B4%E5%9F%BA%E5%85%B1%E4%BA%AB%E8%B5%84%E6%BA%90\" title=\"維基共享資源\">維基共享資源</a>, <a class=\"external text\" href=\"https://commons.wikimedia.org/wiki/Category:Taiki,_Hokkaido?uselang=zh-tw\">大樹町</a>, <a href=\"#\" id=\"collapseButton0\">隱藏</a>, <a href=\"/wiki/Template:%E5%8D%81%E5%8B%9D%E7%B6%9C%E5%90%88%E6%8C%AF%E8%88%88%E5%B1%80\" title=\"Template:十勝綜合振興局\"><abbr style=\";background:#efefef;;background:none transparent;border:none;\" title=\"檢視該模板\">閱</abbr></a>, <a href=\"/wiki/Template_talk:%E5%8D%81%E5%8B%9D%E7%B6%9C%E5%90%88%E6%8C%AF%E8%88%88%E5%B1%80\" title=\"Template talk:十勝綜合振興局\"><abbr style=\";background:#efefef;;background:none transparent;border:none;\" title=\"討論該模板\">論</abbr></a>, <a class=\"external text\" href=\"https://zh.wikipedia.org/w/index.php?title=Template:%E5%8D%81%E5%8B%9D%E7%B6%9C%E5%90%88%E6%8C%AF%E8%88%88%E5%B1%80&amp;action=edit\"><abbr style=\";background:#efefef;;background:none transparent;border:none;\" title=\"編輯該模板\">編</abbr></a>, <a href=\"/wiki/%E5%8C%97%E6%B5%B7%E9%81%93\" title=\"北海道\">北海道</a>, <a href=\"/wiki/%E5%8D%81%E5%8B%9D%E7%B6%9C%E5%90%88%E6%8C%AF%E8%88%88%E5%B1%80\" title=\"十勝綜合振興局\">十勝綜合振興局</a>, <a href=\"/wiki/%E6%97%A5%E6%9C%AC%E8%A1%8C%E6%94%BF%E5%8D%80%E5%8A%83\" title=\"日本行政區劃\">行政區劃</a>, <a href=\"/wiki/%E5%B8%B6%E5%BB%A3%E5%B8%82\" title=\"帶廣市\">帶廣市</a>, <a href=\"/wiki/%E6%B2%B3%E6%9D%B1%E9%83%A1_(%E6%97%A5%E6%9C%AC)\" title=\"河東郡 (日本)\">河東郡</a>, <a href=\"/wiki/%E9%9F%B3%E6%9B%B4%E7%94%BA\" title=\"音更町\">音更町</a>, <a href=\"/wiki/%E5%A3%AB%E5%B9%8C%E7%94%BA\" title=\"士幌町\">士幌町</a>, <a href=\"/wiki/%E4%B8%8A%E5%A3%AB%E5%B9%8C%E7%94%BA\" title=\"上士幌町\">上士幌町</a>, <a href=\"/wiki/%E9%B9%BF%E8%BF%BD%E7%94%BA\" title=\"鹿追町\">鹿追町</a>, <a href=\"/wiki/%E4%B8%8A%E5%B7%9D%E9%83%A1_(%E5%8D%81%E5%8B%9D%E5%9C%8B)\" title=\"上川郡 (十勝國)\">上川郡</a>, <a href=\"/wiki/%E6%96%B0%E5%BE%97%E7%94%BA\" title=\"新得町\">新得町</a>, <a href=\"/wiki/%E6%B8%85%E6%B0%B4%E7%94%BA_(%E5%8C%97%E6%B5%B7%E9%81%93)\" title=\"清水町 (北海道)\">清水町</a>, <a href=\"/wiki/%E6%B2%B3%E8%A5%BF%E9%83%A1\" title=\"河西郡\">河西郡</a>, <a href=\"/wiki/%E8%8A%BD%E5%AE%A4%E7%94%BA\" title=\"芽室町\">芽室町</a>, <a href=\"/wiki/%E4%B8%AD%E6%9C%AD%E5%85%A7%E6%9D%91\" title=\"中札內村\">中札內村</a>, <a href=\"/wiki/%E6%9B%B4%E5%88%A5%E6%9D%91\" title=\"更別村\">更別村</a>, <a href=\"/wiki/%E5%BB%A3%E5%B0%BE%E9%83%A1\" title=\"廣尾郡\">廣尾郡</a>, <a class=\"mw-selflink selflink\">大樹町</a>, <a href=\"/wiki/%E5%BB%A3%E5%B0%BE%E7%94%BA\" title=\"廣尾町\">廣尾町</a>, <a href=\"/wiki/%E4%B8%AD%E5%B7%9D%E9%83%A1_(%E5%8D%81%E5%8B%9D%E7%B6%9C%E5%90%88%E6%8C%AF%E8%88%88%E5%B1%80)\" title=\"中川郡 (十勝綜合振興局)\">中川郡</a>, <a href=\"/wiki/%E5%B9%95%E5%88%A5%E7%94%BA\" title=\"幕別町\">幕別町</a>, <a href=\"/wiki/%E6%B1%A0%E7%94%B0%E7%94%BA_(%E5%8C%97%E6%B5%B7%E9%81%93)\" title=\"池田町 (北海道)\">池田町</a>, <a href=\"/wiki/%E8%B1%90%E9%A0%83%E7%94%BA\" title=\"豐頃町\">豐頃町</a>, <a href=\"/wiki/%E6%9C%AC%E5%88%A5%E7%94%BA\" title=\"本別町\">本別町</a>, <a href=\"/wiki/%E8%B6%B3%E5%AF%84%E9%83%A1\" title=\"足寄郡\">足寄郡</a>, <a href=\"/wiki/%E8%B6%B3%E5%AF%84%E7%94%BA\" title=\"足寄町\">足寄町</a>, <a href=\"/wiki/%E9%99%B8%E5%88%A5%E7%94%BA\" title=\"陸別町\">陸別町</a>, <a href=\"/wiki/%E5%8D%81%E5%8B%9D%E9%83%A1\" title=\"十勝郡\">十勝郡</a>, <a href=\"/wiki/%E6%B5%A6%E5%B9%8C%E7%94%BA\" title=\"浦幌町\">浦幌町</a>, <a href=\"/wiki/Help:%E8%A7%84%E8%8C%83%E6%8E%A7%E5%88%B6\" title=\"Help:規範控制\">規範控制</a>, <a href=\"https://www.wikidata.org/wiki/Q1357479\" title=\"編輯維基數據鏈接\"><img alt=\"編輯維基數據鏈接\" class=\"mw-file-element\" data-file-height=\"20\" data-file-width=\"20\" decoding=\"async\" height=\"10\" src=\"//upload.wikimedia.org/wikipedia/commons/thumb/8/8a/OOjs_UI_icon_edit-ltr-progressive.svg/10px-OOjs_UI_icon_edit-ltr-progressive.svg.png\" srcset=\"//upload.wikimedia.org/wikipedia/commons/thumb/8/8a/OOjs_UI_icon_edit-ltr-progressive.svg/15px-OOjs_UI_icon_edit-ltr-progressive.svg.png 1.5x, //upload.wikimedia.org/wikipedia/commons/thumb/8/8a/OOjs_UI_icon_edit-ltr-progressive.svg/20px-OOjs_UI_icon_edit-ltr-progressive.svg.png 2x\" width=\"10\"/></a>, <a class=\"external text\" href=\"https://www.worldcat.org/identities/containsVIAFID/251754937\" rel=\"nofollow\">WorldCat Identities</a>, <a href=\"/wiki/%E5%9C%8B%E7%AB%8B%E5%9C%8B%E6%9C%83%E5%9C%96%E6%9B%B8%E9%A4%A8\" title=\"國立國會圖書館\">NDL</a>, <a class=\"external text\" href=\"https://id.ndl.go.jp/auth/ndlna/00366702\" rel=\"nofollow\">00366702</a>, <a href=\"/wiki/%E8%99%9A%E6%8B%9F%E5%9B%BD%E9%99%85%E8%A7%84%E8%8C%83%E6%96%87%E6%A1%A3\" title=\"虛擬國際規範文檔\">VIAF</a>, <a class=\"external text\" href=\"https://viaf.org/viaf/251754937\" rel=\"nofollow\">251754937</a>, <a dir=\"ltr\" href=\"https://zh.wikipedia.org/w/index.php?title=大樹町&amp;oldid=73306561\">https://zh.wikipedia.org/w/index.php?title=大樹町&amp;oldid=73306561</a>, <a href=\"/wiki/Special:%E9%A1%B5%E9%9D%A2%E5%88%86%E7%B1%BB\" title=\"Special:页面分类\">分類</a>, <a href=\"/wiki/Category:%E5%A4%A7%E6%A8%B9%E7%94%BA\" title=\"Category:大樹町\">大樹町</a>, <a href=\"/wiki/Category:%E5%8C%97%E6%B5%B7%E9%81%93%E7%9A%84%E5%B8%82%E7%94%BA%E6%9D%91\" title=\"Category:北海道的市町村\">北海道的市町村</a>, <a href=\"/wiki/Category:%E5%90%AB%E6%9C%89%E9%9D%9E%E6%95%B0%E5%AD%97formatnum%E5%8F%82%E6%95%B0%E7%9A%84%E9%A1%B5%E9%9D%A2\" title=\"Category:含有非数字formatnum参数的页面\">含有非數字formatnum參數的頁面</a>, <a href=\"/wiki/Category:CS1%E6%97%A5%E8%AF%AD%E6%9D%A5%E6%BA%90_(ja)\" title=\"Category:CS1日语来源 (ja)\">CS1日語來源 (ja)</a>, <a href=\"/wiki/Category:%E5%BC%95%E6%96%87%E6%A0%BC%E5%BC%8F1%E9%94%99%E8%AF%AF%EF%BC%9A%E5%A4%96%E9%83%A8%E9%93%BE%E6%8E%A5\" title=\"Category:引文格式1错误：外部链接\">引文格式1錯誤：外部連結</a>, <a href=\"/wiki/Category:%E5%90%AB%E6%9C%89%E6%97%A5%E8%AA%9E%E7%9A%84%E6%A2%9D%E7%9B%AE\" title=\"Category:含有日語的條目\">含有日語的條目</a>, <a href=\"/wiki/Category:%E4%BD%BF%E7%94%A8%E8%BF%87%E6%97%B6%E5%9B%BE%E5%83%8F%E8%AF%AD%E6%B3%95%E7%9A%84%E9%A1%B5%E9%9D%A2\" title=\"Category:使用过时图像语法的页面\">使用過時圖像語法的頁面</a>, <a href=\"/wiki/Category:%E5%8C%85%E5%90%ABNDL%E6%A0%87%E8%AF%86%E7%AC%A6%E7%9A%84%E7%BB%B4%E5%9F%BA%E7%99%BE%E7%A7%91%E6%9D%A1%E7%9B%AE\" title=\"Category:包含NDL标识符的维基百科条目\">包含NDL標識符的維基百科條目</a>, <a href=\"/wiki/Category:%E5%8C%85%E5%90%ABVIAF%E6%A0%87%E8%AF%86%E7%AC%A6%E7%9A%84%E7%BB%B4%E5%9F%BA%E7%99%BE%E7%A7%91%E6%9D%A1%E7%9B%AE\" title=\"Category:包含VIAF标识符的维基百科条目\">包含VIAF標識符的維基百科條目</a>, <a href=\"https://creativecommons.org/licenses/by-sa/4.0/deed.zh_TW\" rel=\"license\" title=\"Wikipedia:CC-BY-SA-4.0協議文本\">創用CC 署名-相同方式分享 4.0協議</a>, <a href=\"https://creativecommons.org/licenses/by-sa/4.0/deed.zh_TW\" rel=\"license\" style=\"display:none;\"></a>, <a href=\"https://foundation.wikimedia.org/wiki/Terms_of_Use\">使用條款</a>, <a href=\"https://wikimediafoundation.org\">維基媒體基金會</a>, <a href=\"https://donate.wikimedia.org/wiki/Tax_deductibility\">非營利慈善機構</a>, <a href=\"https://foundation.wikimedia.org/wiki/Special:MyLanguage/Policy:Privacy_policy\">隱私權政策</a>, <a href=\"/wiki/Wikipedia:%E5%85%B3%E4%BA%8E\">關於維基百科</a>, <a href=\"/wiki/Wikipedia:%E5%85%8D%E8%B4%A3%E5%A3%B0%E6%98%8E\">免責聲明</a>, <a href=\"https://foundation.wikimedia.org/wiki/Special:MyLanguage/Policy:Universal_Code_of_Conduct\">行為準則</a>, <a href=\"https://developer.wikimedia.org\">開發人員</a>, <a href=\"https://stats.wikimedia.org/#/zh.wikipedia.org\">統計</a>, <a href=\"https://foundation.wikimedia.org/wiki/Special:MyLanguage/Policy:Cookie_statement\">Cookie 聲明</a>, <a class=\"noprint stopMobileRedirectToggle\" href=\"//zh.m.wikipedia.org/w/index.php?title=%E5%A4%A7%E6%A8%B9%E7%94%BA&amp;variant=zh-tw&amp;mobileaction=toggle_view_mobile\">行動版檢視</a>, <a href=\"https://wikimediafoundation.org/\"><img alt=\"Wikimedia Foundation\" height=\"31\" loading=\"lazy\" src=\"/static/images/footer/wikimedia-button.png\" srcset=\"/static/images/footer/wikimedia-button-1.5x.png 1.5x, /static/images/footer/wikimedia-button-2x.png 2x\" width=\"88\"/></a>, <a href=\"https://www.mediawiki.org/\"><img alt=\"Powered by MediaWiki\" height=\"31\" loading=\"lazy\" src=\"/static/images/footer/poweredby_mediawiki_88x31.png\" srcset=\"/static/images/footer/poweredby_mediawiki_132x47.png 1.5x, /static/images/footer/poweredby_mediawiki_176x62.png 2x\" width=\"88\"/></a>]\n"
     ]
    }
   ],
   "source": [
    "print(soup.find_all('a'))#.encode('gbk').decode('gbk'))"
   ]
  },
  {
   "cell_type": "code",
   "execution_count": 62,
   "metadata": {},
   "outputs": [
    {
     "name": "stdout",
     "output_type": "stream",
     "text": [
      "大樹町\n"
     ]
    }
   ],
   "source": [
    "title = soup.title.text[:-15]\n",
    "print(title)"
   ]
  },
  {
   "cell_type": "code",
   "execution_count": 63,
   "metadata": {},
   "outputs": [
    {
     "name": "stdout",
     "output_type": "stream",
     "text": [
      "大樹町（日語：大樹町／たいきちょう Taiki chō */?）位於北海道十勝綜合振興局南部。名稱來自阿伊努語「tay-ki-us-i」，意思為許多大樹生長的地方[1]或跳蚤很多的地方[2]。是迷你排球的發源地。此外也標榜為「通往宇宙的町」，目前積極招攬航空和太空相關領域的實驗和飛行測試。\n",
      "\n"
     ]
    }
   ],
   "source": [
    "par = soup.p\n",
    "print(par.text)"
   ]
  },
  {
   "cell_type": "code",
   "execution_count": 73,
   "metadata": {},
   "outputs": [
    {
     "name": "stdout",
     "output_type": "stream",
     "text": [
      "[<a class=\"extiw\" href=\"https://ja.wikipedia.org/wiki/%E5%A4%A7%E6%A8%B9%E7%94%BA\" title=\"ja:大樹町\"><span style=\"font: bold 80% sans-serif; text-decoration: none; padding: 0 .1em; font-size:85%;\">*</span></a>, <a class=\"mw-redirect\" href=\"/wiki/Help:%E6%97%A5%E8%AA%9E\" title=\"Help:日語\"><span style=\"font: bold 80% sans-serif; text-decoration: none; padding: 0 .1em;\">?</span></a>, <a href=\"/wiki/%E5%8C%97%E6%B5%B7%E9%81%93\" title=\"北海道\">北海道</a>, <a href=\"/wiki/%E5%8D%81%E5%8B%9D%E7%B6%9C%E5%90%88%E6%8C%AF%E8%88%88%E5%B1%80\" title=\"十勝綜合振興局\">十勝綜合振興局</a>, <a href=\"/wiki/%E9%98%BF%E4%BC%8A%E5%8A%AA%E8%AA%9E\" title=\"阿伊努語\">阿伊努語</a>, <a href=\"#cite_note-1\">[1]</a>, <a href=\"/wiki/%E8%B7%B3%E8%9A%A4\" title=\"跳蚤\">跳蚤</a>, <a href=\"#cite_note-:0-2\">[2]</a>, <a class=\"new\" href=\"/w/index.php?title=%E8%BF%B7%E4%BD%A0%E6%8E%92%E7%90%83&amp;action=edit&amp;redlink=1\" title=\"迷你排球（頁面不存在）\">迷你排球</a>]\n",
      "https://zh.wikipedia.org/wiki/%E5%8C%97%E6%B5%B7%E9%81%93\n",
      "https://zh.wikipedia.org/wiki/%E5%8D%81%E5%8B%9D%E7%B6%9C%E5%90%88%E6%8C%AF%E8%88%88%E5%B1%80\n",
      "https://zh.wikipedia.org/wiki/%E9%98%BF%E4%BC%8A%E5%8A%AA%E8%AA%9E\n",
      "https://zh.wikipedia.org/wiki/%E8%B7%B3%E8%9A%A4\n"
     ]
    }
   ],
   "source": [
    "#print(par)\n",
    "print(par.find_all('a'))\n",
    "for link in par.find_all('a'):\n",
    "    link = link.get('href')\n",
    "    if link[:7] == '/wiki/%':\n",
    "        print('https://zh.wikipedia.org'+link)"
   ]
  },
  {
   "cell_type": "code",
   "execution_count": 55,
   "metadata": {},
   "outputs": [
    {
     "name": "stdout",
     "output_type": "stream",
     "text": [
      "sphinx of  black quartz  judge my vow\n"
     ]
    }
   ],
   "source": [
    "tx = 'sphinx of [1] black quartz [2] judge my vow[3]'\n",
    "i = 0\n",
    "flag = False\n",
    "while i < len(tx):\n",
    "    if tx[i] == '[':\n",
    "        tx = tx[:i] + tx[i+3:]\n",
    "    else:\n",
    "        i += 1\n",
    "print(tx)"
   ]
  },
  {
   "cell_type": "code",
   "execution_count": 31,
   "metadata": {},
   "outputs": [
    {
     "name": "stdout",
     "output_type": "stream",
     "text": [
      "None\n"
     ]
    }
   ],
   "source": [
    "driver2 = webdriver.Chrome()\n",
    "driver2.get(f'https://www.google.com/search?q={title}')\n",
    "soup2 = BeautifulSoup(driver2.page_source, 'html.parser')"
   ]
  },
  {
   "cell_type": "code",
   "execution_count": 40,
   "metadata": {},
   "outputs": [
    {
     "name": "stdout",
     "output_type": "stream",
     "text": [
      "16700000\n"
     ]
    }
   ],
   "source": [
    "num = soup2.find('div', {\"id\":\"result-stats\"}).text\n",
    "num = num[:-19]\n",
    "num = num[3:]\n",
    "num = int(num.replace(',',''))\n",
    "print(num)"
   ]
  }
 ],
 "metadata": {
  "kernelspec": {
   "display_name": "Python 3",
   "language": "python",
   "name": "python3"
  },
  "language_info": {
   "codemirror_mode": {
    "name": "ipython",
    "version": 3
   },
   "file_extension": ".py",
   "mimetype": "text/x-python",
   "name": "python",
   "nbconvert_exporter": "python",
   "pygments_lexer": "ipython3",
   "version": "3.11.7"
  }
 },
 "nbformat": 4,
 "nbformat_minor": 2
}
